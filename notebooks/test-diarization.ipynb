{
 "cells": [
  {
   "cell_type": "code",
   "execution_count": null,
   "metadata": {},
   "outputs": [],
   "source": [
    "import torch\n",
    "from speechbrain.pretrained import SpeakerDiarization\n",
    "\n",
    "# Load the pre-trained diarization model\n",
    "diar = SpeakerDiarization.from_hparams(source=\"speechbrain/spkrec-diarization\", savedir=\"pretrained_models/diarization\")\n",
    "\n",
    "# Path to your audio file\n",
    "audio_file = \"/resources/conversation_1.mp3\"\n",
    "\n",
    "# Run the diarization process\n",
    "diarization_results = diar.diarize_file(audio_file)\n",
    "\n",
    "# Print diarization results\n",
    "print(\"Diarization Results:\\n\", diarization_results)\n",
    "\n",
    "# Save the output into a RTTM file (Rich Transcription Time Marked file)\n",
    "diar.write_rttm(diarization_results, \"output_diarization.rttm\")"
   ]
  },
  {
   "cell_type": "code",
   "execution_count": null,
   "metadata": {},
   "outputs": [],
   "source": []
  }
 ],
 "metadata": {
  "kernelspec": {
   "display_name": "Python 3",
   "language": "python",
   "name": "python3"
  },
  "language_info": {
   "codemirror_mode": {
    "name": "ipython",
    "version": 3
   },
   "file_extension": ".py",
   "mimetype": "text/x-python",
   "name": "python",
   "nbconvert_exporter": "python",
   "pygments_lexer": "ipython3",
   "version": "3.11.10"
  }
 },
 "nbformat": 4,
 "nbformat_minor": 2
}
